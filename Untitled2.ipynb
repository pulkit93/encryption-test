{
 "cells": [
  {
   "cell_type": "code",
   "execution_count": 1,
   "metadata": {},
   "outputs": [],
   "source": [
    "from signed import Signer"
   ]
  },
  {
   "cell_type": "code",
   "execution_count": 2,
   "metadata": {},
   "outputs": [],
   "source": [
    "JSON_STR = \"\"\"{\"u\": \"testAuthUser1\", \"e\": \"test.user@nowhere.com\", \"l\": \"User\", \"f\": \"Test\"}\"\"\"\n",
    "SIGNED_STR = 'eyJ1IjoidGVzdEF1dGhVc2VyIiwiZiI6IlRlc3QiLCJsIjoiVXNlciIsImUiOiJ0ZXN0LnVzZXJAbm93aGVyZS5jb20ifQ:1g07Vc:fh8Mf0kpYSF6cOnr_b75Cmd0wV4'\n",
    "SECRET = '1234'"
   ]
  },
  {
   "cell_type": "code",
   "execution_count": 3,
   "metadata": {},
   "outputs": [],
   "source": [
    "signer = Signer(key = SECRET)"
   ]
  },
  {
   "cell_type": "code",
   "execution_count": 4,
   "metadata": {},
   "outputs": [
    {
     "data": {
      "text/plain": [
       "'IntcInVcIjogXCJ0ZXN0QXV0aFVzZXIxXCIsIFwiZVwiOiBcInRlc3QudXNlckBub3doZXJlLmNvbVwiLCBcImxcIjogXCJVc2VyXCIsIFwiZlwiOiBcIlRlc3RcIn0i._y-WzgdR9AG9NSX6bHLIUj_fBzs'"
      ]
     },
     "execution_count": 4,
     "metadata": {},
     "output_type": "execute_result"
    }
   ],
   "source": [
    "signer.dumps(JSON_STR)"
   ]
  },
  {
   "cell_type": "code",
   "execution_count": 5,
   "metadata": {},
   "outputs": [
    {
     "data": {
      "text/plain": [
       "u'{\"u\": \"testAuthUser1\", \"e\": \"test.user@nowhere.com\", \"l\": \"User\", \"f\": \"Test\"}'"
      ]
     },
     "execution_count": 5,
     "metadata": {},
     "output_type": "execute_result"
    }
   ],
   "source": [
    "signer.loads('IntcInVcIjogXCJ0ZXN0QXV0aFVzZXIxXCIsIFwiZVwiOiBcInRlc3QudXNlckBub3doZXJlLmNvbVwiLCBcImxcIjogXCJVc2VyXCIsIFwiZlwiOiBcIlRlc3RcIn0i._y-WzgdR9AG9NSX6bHLIUj_fBzs')"
   ]
  },
  {
   "cell_type": "code",
   "execution_count": null,
   "metadata": {},
   "outputs": [],
   "source": []
  }
 ],
 "metadata": {
  "kernelspec": {
   "display_name": "Python 2",
   "language": "python",
   "name": "python2"
  },
  "language_info": {
   "codemirror_mode": {
    "name": "ipython",
    "version": 2
   },
   "file_extension": ".py",
   "mimetype": "text/x-python",
   "name": "python",
   "nbconvert_exporter": "python",
   "pygments_lexer": "ipython2",
   "version": "2.7.14"
  }
 },
 "nbformat": 4,
 "nbformat_minor": 2
}
